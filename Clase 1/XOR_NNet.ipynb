{
  "nbformat": 4,
  "nbformat_minor": 0,
  "metadata": {
    "colab": {
      "name": "XOR NNet.ipynb",
      "provenance": [],
      "collapsed_sections": []
    },
    "kernelspec": {
      "name": "python3",
      "display_name": "Python 3"
    },
    "language_info": {
      "name": "python"
    }
  },
  "cells": [
    {
      "cell_type": "markdown",
      "source": [
        "# Resolver el problema de la XOR con 3 neuronas\n",
        "\n",
        "\n",
        "\n",
        "1.   Implementar SGD para resolver la XOR.\n",
        "2.   ¿Cuántos parámetros desconocidos tiene el modelo?\n",
        "3.   ¿Cuáles son los hiper-parámetros del modelo? Explicar que pasa cuando se\n",
        "varía el learning rate.\n",
        "4. Una vez entrenado el modelo, realizar predicciones para verificar el\n",
        "funcionamiento.\n",
        "\n",
        "\n",
        "\n"
      ],
      "metadata": {
        "id": "ZZmn7kMi-Kro"
      }
    },
    {
      "cell_type": "code",
      "execution_count": 116,
      "metadata": {
        "id": "0vUEsVGklCxk"
      },
      "outputs": [],
      "source": [
        "import numpy as np\n",
        "from matplotlib import pyplot as plt\n",
        "RANDOM_STATE = 341\n"
      ]
    },
    {
      "cell_type": "code",
      "source": [
        "class neuron:\n",
        "\n",
        "  def __init__(self, activation = False):\n",
        "    self.activation_flag = activation\n",
        "    np.random.seed(RANDOM_STATE)\n",
        "    self.W = np.random.rand(3,1)\n",
        "\n",
        "    if activation:\n",
        "      self.activation = self.sigmoid\n",
        "    else:\n",
        "      self.activation = self.identity\n",
        "\n",
        "  def sigmoid(self,v):\n",
        "    return np.array(1/(1+np.exp(-v)))\n",
        "\n",
        "  def identity(self,v):\n",
        "    return v\n",
        "\n",
        "  def calculate(self,x):\n",
        "    \"\"\"\n",
        "    Asumo que tiene dos entradas \n",
        "    y = activation(Z)\n",
        "    con Z = x_2*w_2 + x_1*w_1 + w_0*1\n",
        "    \"\"\"\n",
        "    X = np.ones((3,1))\n",
        "    X[1] = x[0]\n",
        "    X[2] = x[1]\n",
        "    self.Z = self.W.T@X\n",
        "    self.dY_dW = self.dy_dw(x)\n",
        "    self.dY_dX = self.dy_dx(x)\n",
        "    self.Y = self.activation(self.Z)\n",
        "    return np.array(self.Y, float)\n",
        "\n",
        "  def dy_dw(self,x):\n",
        "    dz_dwi = np.array([[1],[x[0]],[x[1]]])\n",
        "    if self.activation_flag:\n",
        "      df_dz = self.activation(self.Z)*(1-self.activation(self.Z))\n",
        "      df_dwi = df_dz*dz_dwi\n",
        "      return np.array(df_dwi , float)\n",
        "    else:\n",
        "      return np.array(dz_dwi , float)\n",
        "\n",
        "  def dy_dx(self,x):\n",
        "    if self.activation_flag:\n",
        "      return np.array([-1,-1],float) # no se utiliza\n",
        "    else:\n",
        "      dz_dx = np.array([self.W[1],self.W[2]],float)\n",
        "    return dz_dx\n",
        "\n",
        "  def get_params(self):\n",
        "    return self.W\n",
        "\n",
        "  def set_params(self,W_new):\n",
        "    self.W = W_new\n",
        "\n",
        "class Loss:\n",
        "  def __init__(self):\n",
        "    pass\n",
        "\n",
        "  def calculate(self,y_true,y_pred):\n",
        "    \"\"\"\n",
        "    Asumo una única salida\n",
        "    \"\"\"\n",
        "    self.err = (y_true - y_pred)*(y_true - y_pred)\n",
        "    self.dL_dy_hat_calc(y_true,y_pred)\n",
        "    \n",
        "    return float(self.err)\n",
        "\n",
        "  def dL_dy_hat_calc(self,y_true,y_pred):\n",
        "    self.dL_dy_hat = float(-2*(y_true - y_pred))\n",
        "    return\n",
        "\n",
        "\n",
        "def foward(model,X):\n",
        "    X0 = X\n",
        "    model[0][0].calculate(X0)\n",
        "    model[0][1].calculate(X0)\n",
        "    Y0 = np.array([model[0][0].Y,model[0][1].Y],float)\n",
        "    X1 = Y0\n",
        "    model[1][0].calculate(X1)\n",
        "    Y_hat = model[1][0].Y\n",
        "    return float(Y_hat)\n",
        "\n",
        "\n",
        "def backward(model,loss,lr):\n",
        "    model[1][0].W -= lr*loss.dL_dy_hat*model[1][0].dY_dW\n",
        "    model[0][0].W -= lr*loss.dL_dy_hat*model[1][0].dY_dX[0]*model[0][0].dY_dW\n",
        "    model[0][1].W -= lr*loss.dL_dy_hat*model[1][0].dY_dX[1]*model[0][1].dY_dW\n",
        "    return\n",
        "\n"
      ],
      "metadata": {
        "id": "xn6EDRQnlTSL"
      },
      "execution_count": 117,
      "outputs": []
    },
    {
      "cell_type": "code",
      "source": [
        "X = np.array([[0,0],[0,1],[1,0],[1,1]])\n",
        "Y = np.array([0,1,1,0])"
      ],
      "metadata": {
        "id": "jAnEhndByQ10"
      },
      "execution_count": 104,
      "outputs": []
    },
    {
      "cell_type": "code",
      "source": [
        "EPOCH = 2000\n",
        "lerning_rate_list = [0.1,0.05,0.03]\n",
        "MSE_list = []\n",
        "for lr in lerning_rate_list:\n",
        "  L_1 = []\n",
        "  L_2 = []\n",
        "  L_1.append(neuron(activation=True))\n",
        "  L_1.append(neuron(activation=True))\n",
        "  L_2.append(neuron(activation=False))\n",
        "  model = np.array([L_1,L_2],dtype = neuron)\n",
        "  loss = Loss()\n",
        "  MSE = []\n",
        "  for i in range(EPOCH):\n",
        "    loss_value = []\n",
        "    for k in range(len(X)):\n",
        "      y_hat = foward(model,X[k])\n",
        "      loss_value.append(loss.calculate(Y[k],y_hat))\n",
        "      backward(model,loss,lr=lr)\n",
        "    MSE.append(np.mean(loss_value))\n",
        "  MSE_list.append(MSE)\n",
        "\n"
      ],
      "metadata": {
        "colab": {
          "base_uri": "https://localhost:8080/"
        },
        "id": "afFMBzYv_FNa",
        "outputId": "05251756-e729-4532-aceb-45a91239f447"
      },
      "execution_count": 131,
      "outputs": [
        {
          "output_type": "stream",
          "name": "stderr",
          "text": [
            "/usr/local/lib/python3.7/dist-packages/ipykernel_launcher.py:35: VisibleDeprecationWarning: Creating an ndarray from ragged nested sequences (which is a list-or-tuple of lists-or-tuples-or ndarrays with different lengths or shapes) is deprecated. If you meant to do this, you must specify 'dtype=object' when creating the ndarray.\n"
          ]
        }
      ]
    },
    {
      "cell_type": "code",
      "source": [
        "plt.figure()\n",
        "plt.title('Hist')\n",
        "plt.plot(range(EPOCH),MSE_list[0])\n",
        "plt.plot(range(EPOCH),MSE_list[1])\n",
        "plt.plot(range(EPOCH),MSE_list[2])\n",
        "plt.ylabel('Loss function')\n",
        "plt.ylabel('Epochs')\n",
        "plt.legend(['lr: {}'.format(lerning_rate_list[0]),'lr: {}'.format(lerning_rate_list[1]),'lr: {}'.format(lerning_rate_list[2])])\n",
        "plt.show()"
      ],
      "metadata": {
        "colab": {
          "base_uri": "https://localhost:8080/",
          "height": 281
        },
        "id": "kQF3y5_FARzL",
        "outputId": "6f3976b6-8ec6-40b9-c8ca-17cbe4febcf2"
      },
      "execution_count": 132,
      "outputs": [
        {
          "output_type": "display_data",
          "data": {
            "text/plain": [
              "<Figure size 432x288 with 1 Axes>"
            ],
            "image/png": "[encoded data removed]"
          },
          "metadata": {
            "needs_background": "light"
          }
        }
      ]
    },
    {
      "cell_type": "markdown",
      "source": [
        "## ¿Cuántos parámetros desconocidos tiene el modelo?\n",
        "El modelo tiene 9 parámetros desconocidos entrenables, tres por cada neurona.\n",
        "\n",
        "## ¿Cuáles son los hiper-parámetros del modelo? Explicar que pasa cuando se varía el learning rate.\n",
        "\n",
        "El modelo, tal como se planteó en el ejerciciom,  tiene dos hiper-parámetros: Cantidad de epochs y learning rate. Al variar el learning rate se puede ver el impacto que este tiene en la evolucion de la funcion de costo durante el entrenamiento. El lr impacta en la actualización de los parámatros entrenables del modelo. \n",
        "\n",
        "## Una vez entrenado el modelo, realizar predicciones para verificar el funcionamiento."
      ],
      "metadata": {
        "id": "YWl2gOBQCAwr"
      }
    },
    {
      "cell_type": "code",
      "source": [
        "for i in range(len(X)):\n",
        "  print( '|{}| {:.1f}'.format(X[i] , foward(model,X[i])))"
      ],
      "metadata": {
        "colab": {
          "base_uri": "https://localhost:8080/"
        },
        "id": "9cLUurB9iH5D",
        "outputId": "50844582-cf28-4d19-ea85-df4646d4425a"
      },
      "execution_count": 135,
      "outputs": [
        {
          "output_type": "stream",
          "name": "stdout",
          "text": [
            "|[0 0]| 0.0\n",
            "|[0 1]| 1.0\n",
            "|[1 0]| 1.0\n",
            "|[1 1]| 0.0\n"
          ]
        },
        {
          "output_type": "stream",
          "name": "stderr",
          "text": [
            "/usr/local/lib/python3.7/dist-packages/ipykernel_launcher.py:35: VisibleDeprecationWarning: Creating an ndarray from ragged nested sequences (which is a list-or-tuple of lists-or-tuples-or ndarrays with different lengths or shapes) is deprecated. If you meant to do this, you must specify 'dtype=object' when creating the ndarray.\n"
          ]
        }
      ]
    }
  ]
}